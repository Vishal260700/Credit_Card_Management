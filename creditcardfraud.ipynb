{
  "nbformat": 4,
  "nbformat_minor": 0,
  "metadata": {
    "kernelspec": {
      "display_name": "Python 3",
      "language": "python",
      "name": "python3"
    },
    "language_info": {
      "codemirror_mode": {
        "name": "ipython",
        "version": 3
      },
      "file_extension": ".py",
      "mimetype": "text/x-python",
      "name": "python",
      "nbconvert_exporter": "python",
      "pygments_lexer": "ipython3",
      "version": "3.6.5"
    },
    "colab": {
      "name": "creditcardfraud.ipynb",
      "version": "0.3.2",
      "provenance": [],
      "collapsed_sections": []
    }
  },
  "cells": [
    {
      "cell_type": "code",
      "metadata": {
        "id": "BpKuBhEMInXP",
        "colab_type": "code",
        "colab": {}
      },
      "source": [
        "#importing dependencies\n",
        "import scipy.stats as stats\n",
        "import numpy as np\n",
        "import pandas as pd\n",
        "import matplotlib.pyplot as plt\n",
        "import seaborn as sns\n",
        "plt.style.use('ggplot')"
      ],
      "execution_count": 0,
      "outputs": []
    },
    {
      "cell_type": "code",
      "metadata": {
        "id": "3N-2zGU9fCdu",
        "colab_type": "code",
        "colab": {}
      },
      "source": [
        "from google.colab import files\n",
        "upload = files.upload()"
      ],
      "execution_count": 0,
      "outputs": []
    },
    {
      "cell_type": "code",
      "metadata": {
        "id": "-GvUQJPlInXS",
        "colab_type": "code",
        "colab": {}
      },
      "source": [
        "df = pd.read_csv('creditcard.csv')"
      ],
      "execution_count": 0,
      "outputs": []
    },
    {
      "cell_type": "code",
      "metadata": {
        "id": "UsxufvASInXU",
        "colab_type": "code",
        "colab": {}
      },
      "source": [
        "# shape of data\n",
        "print('This data frame has {} rows and {} columns.'.format(df.shape[0], df.shape[1]))"
      ],
      "execution_count": 0,
      "outputs": []
    },
    {
      "cell_type": "code",
      "metadata": {
        "id": "IZlcmYuqInXf",
        "colab_type": "code",
        "colab": {}
      },
      "source": [
        "# numerical summary -> only non-anonymized columns of interest\n",
        "pd.set_option('precision', 3)\n",
        "df.loc[:, ['Time', 'Amount']].describe()"
      ],
      "execution_count": 0,
      "outputs": []
    },
    {
      "cell_type": "code",
      "metadata": {
        "id": "kzDZcqHmInXi",
        "colab_type": "code",
        "colab": {}
      },
      "source": [
        "# visualizations of time and amount\n",
        "plt.figure(figsize=(10,8))\n",
        "plt.title('Distribution of Time Feature')\n",
        "sns.distplot(df.Time)"
      ],
      "execution_count": 0,
      "outputs": []
    },
    {
      "cell_type": "code",
      "metadata": {
        "id": "j1s6LMA0InXl",
        "colab_type": "code",
        "colab": {}
      },
      "source": [
        "plt.figure(figsize=(10,8))\n",
        "plt.title('Distribution of Monetary Value Feature')\n",
        "sns.distplot(df.Amount)"
      ],
      "execution_count": 0,
      "outputs": []
    },
    {
      "cell_type": "markdown",
      "metadata": {
        "id": "r0AGLlO3InXo",
        "colab_type": "text"
      },
      "source": [
        "Around 88 dollars is the mean of all credit card transactions in this data set. The biggest transaction had a monetary value of around 25,691 dollars."
      ]
    },
    {
      "cell_type": "code",
      "metadata": {
        "id": "QXPZNTTYInXo",
        "colab_type": "code",
        "colab": {}
      },
      "source": [
        "# fraud vs. normal transactions \n",
        "counts = df.Class.value_counts()\n",
        "normal = counts[0]\n",
        "fraudulent = counts[1]\n",
        "perc_normal = (normal/(normal+fraudulent))*100\n",
        "perc_fraudulent = (fraudulent/(normal+fraudulent))*100\n",
        "print('There were {} non-fraudulent transactions ({:.3f}%) and {} fraudulent transactions ({:.3f}%).'.format(normal, perc_normal, fraudulent, perc_fraudulent))"
      ],
      "execution_count": 0,
      "outputs": []
    },
    {
      "cell_type": "code",
      "metadata": {
        "id": "gOpU9VxwInXr",
        "colab_type": "code",
        "colab": {}
      },
      "source": [
        "plt.figure(figsize=(8,6))\n",
        "sns.barplot(x=counts.index, y=counts)\n",
        "plt.title('Count of Fraudulent vs. Non-Fraudulent Transactions')\n",
        "plt.ylabel('Count')\n",
        "plt.xlabel('Class (0:Non-Fraudulent, 1:Fraudulent)')"
      ],
      "execution_count": 0,
      "outputs": []
    },
    {
      "cell_type": "code",
      "metadata": {
        "id": "ThRUIMUCInXu",
        "colab_type": "code",
        "colab": {}
      },
      "source": [
        "corr = df.corr()\n",
        "corr"
      ],
      "execution_count": 0,
      "outputs": []
    },
    {
      "cell_type": "code",
      "metadata": {
        "id": "H9pH1MUiInXx",
        "colab_type": "code",
        "colab": {}
      },
      "source": [
        "# heatmap\n",
        "corr = df.corr()\n",
        "plt.figure(figsize=(12,10))\n",
        "heat = sns.heatmap(data=corr)\n",
        "plt.title('Heatmap of Correlation')"
      ],
      "execution_count": 0,
      "outputs": []
    },
    {
      "cell_type": "code",
      "metadata": {
        "id": "_pRldyYEInX0",
        "colab_type": "code",
        "colab": {}
      },
      "source": [
        "# skewness\n",
        "skew_ = df.skew()\n",
        "skew_"
      ],
      "execution_count": 0,
      "outputs": []
    },
    {
      "cell_type": "markdown",
      "metadata": {
        "id": "MBuWSeJJInX5",
        "colab_type": "text"
      },
      "source": [
        "**Scaling Amount and Time**"
      ]
    },
    {
      "cell_type": "code",
      "metadata": {
        "id": "6pSRcIMHInX5",
        "colab_type": "code",
        "colab": {}
      },
      "source": [
        "from sklearn.preprocessing import StandardScaler\n",
        "scaler = StandardScaler()\n",
        "scaler2 = StandardScaler()\n",
        "\n",
        "# scaling time\n",
        "scaled_time = scaler.fit_transform(df[['Time']])\n",
        "flat_list1 = [item for sublist in scaled_time.tolist() for item in sublist]\n",
        "scaled_time = pd.Series(flat_list1)"
      ],
      "execution_count": 0,
      "outputs": []
    },
    {
      "cell_type": "code",
      "metadata": {
        "id": "JiV-CBeyInX8",
        "colab_type": "code",
        "colab": {}
      },
      "source": [
        "# scaling the amount column\n",
        "scaled_amount = scaler2.fit_transform(df[['Amount']])\n",
        "flat_list2 = [item for sublist in scaled_amount.tolist() for item in sublist]\n",
        "scaled_amount = pd.Series(flat_list2)"
      ],
      "execution_count": 0,
      "outputs": []
    },
    {
      "cell_type": "code",
      "metadata": {
        "id": "35bYQmhLInX-",
        "colab_type": "code",
        "colab": {}
      },
      "source": [
        "# concatenating newly created columns w original df\n",
        "df = pd.concat([df, scaled_amount.rename('scaled_amount'), scaled_time.rename('scaled_time')], axis=1)\n",
        "df.sample(5)"
      ],
      "execution_count": 0,
      "outputs": []
    },
    {
      "cell_type": "code",
      "metadata": {
        "id": "4SR_2UagInYB",
        "colab_type": "code",
        "colab": {}
      },
      "source": [
        "# dropping old amount and time columns\n",
        "df.drop(['Amount', 'Time'], axis=1, inplace=True)"
      ],
      "execution_count": 0,
      "outputs": []
    },
    {
      "cell_type": "markdown",
      "metadata": {
        "id": "WbqCIPHJInYD",
        "colab_type": "text"
      },
      "source": [
        "**Splitting Data into Train and Test**"
      ]
    },
    {
      "cell_type": "code",
      "metadata": {
        "id": "5g9630s0InYE",
        "colab_type": "code",
        "colab": {}
      },
      "source": [
        "# manual train test split using numpy's random.rand\n",
        "mask = np.random.rand(len(df)) < 0.9\n",
        "train = df[mask]\n",
        "test = df[~mask]\n",
        "print('Train Shape: {}\\nTest Shape: {}'.format(train.shape, test.shape))"
      ],
      "execution_count": 0,
      "outputs": []
    },
    {
      "cell_type": "code",
      "metadata": {
        "id": "sdn0A8XjInYI",
        "colab_type": "code",
        "colab": {}
      },
      "source": [
        "train.reset_index(drop=True, inplace=True)\n",
        "test.reset_index(drop=True, inplace=True)"
      ],
      "execution_count": 0,
      "outputs": []
    },
    {
      "cell_type": "markdown",
      "metadata": {
        "id": "wukLQPOHInYK",
        "colab_type": "text"
      },
      "source": [
        "**Creating a subsample data set with balanced class distributions**"
      ]
    },
    {
      "cell_type": "code",
      "metadata": {
        "id": "wZc9sp9eInYK",
        "colab_type": "code",
        "colab": {}
      },
      "source": [
        "# how many random samples from normal transactions do we need?\n",
        "no_of_frauds = train.Class.value_counts()[1]\n",
        "print('There are {} fraudulent transactions in the train data.'.format(no_of_frauds))"
      ],
      "execution_count": 0,
      "outputs": []
    },
    {
      "cell_type": "code",
      "metadata": {
        "id": "lIh5CzYRInYO",
        "colab_type": "code",
        "colab": {}
      },
      "source": [
        "# randomly selecting 442 random non-fraudulent transactions\n",
        "non_fraud = train[train['Class'] == 0]\n",
        "fraud = train[train['Class'] == 1]"
      ],
      "execution_count": 0,
      "outputs": []
    },
    {
      "cell_type": "code",
      "metadata": {
        "id": "hd08j5qbInYS",
        "colab_type": "code",
        "colab": {}
      },
      "source": [
        "selected = non_fraud.sample(no_of_frauds)\n",
        "selected.head()"
      ],
      "execution_count": 0,
      "outputs": []
    },
    {
      "cell_type": "code",
      "metadata": {
        "id": "yV4E-zO6InYV",
        "colab_type": "code",
        "colab": {}
      },
      "source": [
        "# concatenating both into a subsample data set with equal class distribution\n",
        "selected.reset_index(drop=True, inplace=True)\n",
        "fraud.reset_index(drop=True, inplace=True)"
      ],
      "execution_count": 0,
      "outputs": []
    },
    {
      "cell_type": "code",
      "metadata": {
        "id": "mbZDz3QcInYX",
        "colab_type": "code",
        "colab": {}
      },
      "source": [
        "subsample = pd.concat([selected, fraud])\n",
        "len(subsample)"
      ],
      "execution_count": 0,
      "outputs": []
    },
    {
      "cell_type": "code",
      "metadata": {
        "id": "PlFmpedqInYZ",
        "colab_type": "code",
        "colab": {}
      },
      "source": [
        "# shuffling our data set\n",
        "subsample = subsample.sample(frac=1).reset_index(drop=True)\n",
        "subsample.head(10)"
      ],
      "execution_count": 0,
      "outputs": []
    },
    {
      "cell_type": "code",
      "metadata": {
        "id": "QDuAFRn4InYe",
        "colab_type": "code",
        "colab": {}
      },
      "source": [
        "new_counts = subsample.Class.value_counts()\n",
        "plt.figure(figsize=(8,6))\n",
        "sns.barplot(x=new_counts.index, y=new_counts)\n",
        "plt.title('Count of Fraudulent vs. Non-Fraudulent Transactions In Subsample')\n",
        "plt.ylabel('Count')\n",
        "plt.xlabel('Class (0:Non-Fraudulent, 1:Fraudulent)')"
      ],
      "execution_count": 0,
      "outputs": []
    },
    {
      "cell_type": "code",
      "metadata": {
        "id": "lGWyHv6KInYg",
        "colab_type": "code",
        "colab": {}
      },
      "source": [
        "# taking a look at correlations once more\n",
        "corr = subsample.corr()\n",
        "corr = corr[['Class']]\n",
        "corr"
      ],
      "execution_count": 0,
      "outputs": []
    },
    {
      "cell_type": "code",
      "metadata": {
        "id": "m9cLV6dnInYj",
        "colab_type": "code",
        "colab": {}
      },
      "source": [
        "#negative correlations smaller than -0.5\n",
        "corr[corr.Class < -0.5]"
      ],
      "execution_count": 0,
      "outputs": []
    },
    {
      "cell_type": "code",
      "metadata": {
        "id": "JHHnNg_YInYm",
        "colab_type": "code",
        "colab": {}
      },
      "source": [
        "#positive correlations greater than 0.5\n",
        "corr[corr.Class > 0.5]"
      ],
      "execution_count": 0,
      "outputs": []
    },
    {
      "cell_type": "code",
      "metadata": {
        "id": "1ctkHAdwInYq",
        "colab_type": "code",
        "colab": {}
      },
      "source": [
        "#visualizing the features w high negative correlation\n",
        "f, axes = plt.subplots(nrows=2, ncols=4, figsize=(26,16))\n",
        "\n",
        "f.suptitle('Features With High Negative Correlation', size=35)\n",
        "sns.boxplot(x=\"Class\", y=\"V3\", data=subsample, ax=axes[0,0])\n",
        "sns.boxplot(x=\"Class\", y=\"V9\", data=subsample, ax=axes[0,1])\n",
        "sns.boxplot(x=\"Class\", y=\"V10\", data=subsample, ax=axes[0,2])\n",
        "sns.boxplot(x=\"Class\", y=\"V12\", data=subsample, ax=axes[0,3])\n",
        "sns.boxplot(x=\"Class\", y=\"V14\", data=subsample, ax=axes[1,0])\n",
        "sns.boxplot(x=\"Class\", y=\"V16\", data=subsample, ax=axes[1,1])\n",
        "sns.boxplot(x=\"Class\", y=\"V17\", data=subsample, ax=axes[1,2])\n",
        "f.delaxes(axes[1,3])"
      ],
      "execution_count": 0,
      "outputs": []
    },
    {
      "cell_type": "code",
      "metadata": {
        "id": "_8E1WENtInYs",
        "colab_type": "code",
        "colab": {}
      },
      "source": [
        "# visualizing the features w high positive correlation\n",
        "f, axes = plt.subplots(nrows=1, ncols=2, figsize=(18,9))\n",
        "\n",
        "f.suptitle('Features With High Positive Correlation', size=20)\n",
        "sns.boxplot(x=\"Class\", y=\"V4\", data=subsample, ax=axes[0])\n",
        "sns.boxplot(x=\"Class\", y=\"V11\", data=subsample, ax=axes[1])"
      ],
      "execution_count": 0,
      "outputs": []
    },
    {
      "cell_type": "markdown",
      "metadata": {
        "id": "TvU4R8ZMInYu",
        "colab_type": "text"
      },
      "source": [
        "**Extreme Outlier Removal**"
      ]
    },
    {
      "cell_type": "code",
      "metadata": {
        "id": "sL124_lbInYv",
        "colab_type": "code",
        "colab": {}
      },
      "source": [
        "#Only removing extreme outliers\n",
        "Q1 = subsample.quantile(0.25)\n",
        "Q3 = subsample.quantile(0.75)\n",
        "IQR = Q3 - Q1\n",
        "\n",
        "df2 = subsample[~((subsample < (Q1 - 2.5 * IQR)) |(subsample > (Q3 + 2.5 * IQR))).any(axis=1)]"
      ],
      "execution_count": 0,
      "outputs": []
    },
    {
      "cell_type": "code",
      "metadata": {
        "id": "79CBZL4RInYx",
        "colab_type": "code",
        "colab": {}
      },
      "source": [
        "len_after = len(df2)\n",
        "len_before = len(subsample)\n",
        "len_difference = len(subsample) - len(df2)\n",
        "print('We reduced our data size from {} transactions by {} transactions to {} transactions.'.format(len_before, len_difference, len_after))"
      ],
      "execution_count": 0,
      "outputs": []
    },
    {
      "cell_type": "markdown",
      "metadata": {
        "id": "N-7_SmaKInYz",
        "colab_type": "text"
      },
      "source": [
        "**Dimensionality Reduction**"
      ]
    },
    {
      "cell_type": "code",
      "metadata": {
        "id": "MpUaKrwxInY0",
        "colab_type": "code",
        "colab": {}
      },
      "source": [
        "from sklearn.manifold import TSNE\n",
        "\n",
        "X = df2.drop('Class', axis=1)\n",
        "y = df2['Class']"
      ],
      "execution_count": 0,
      "outputs": []
    },
    {
      "cell_type": "code",
      "metadata": {
        "id": "e634umHDInY2",
        "colab_type": "code",
        "colab": {}
      },
      "source": [
        "#t-SNE\n",
        "X_reduced_tsne = TSNE(n_components=2, random_state=42).fit_transform(X.values)"
      ],
      "execution_count": 0,
      "outputs": []
    },
    {
      "cell_type": "code",
      "metadata": {
        "id": "Y0op6Y6SInY3",
        "colab_type": "code",
        "colab": {}
      },
      "source": [
        "# t-SNE scatter plot\n",
        "import matplotlib.patches as mpatches\n",
        "\n",
        "f, ax = plt.subplots(figsize=(24,16))\n",
        "\n",
        "\n",
        "blue_patch = mpatches.Patch(color='#0A0AFF', label='No Fraud')\n",
        "red_patch = mpatches.Patch(color='#AF0000', label='Fraud')\n",
        "\n",
        "ax.scatter(X_reduced_tsne[:,0], X_reduced_tsne[:,1], c=(y == 0), cmap='coolwarm', label='No Fraud', linewidths=2)\n",
        "ax.scatter(X_reduced_tsne[:,0], X_reduced_tsne[:,1], c=(y == 1), cmap='coolwarm', label='Fraud', linewidths=2)\n",
        "ax.set_title('t-SNE', fontsize=14)\n",
        "\n",
        "ax.grid(True)\n",
        "\n",
        "ax.legend(handles=[blue_patch, red_patch])\n"
      ],
      "execution_count": 0,
      "outputs": []
    },
    {
      "cell_type": "markdown",
      "metadata": {
        "id": "3duKxcAXInY6",
        "colab_type": "text"
      },
      "source": [
        "**Classification Algorithms**"
      ]
    },
    {
      "cell_type": "code",
      "metadata": {
        "id": "_YEEcVw2InY6",
        "colab_type": "code",
        "colab": {}
      },
      "source": [
        "def warn(*args, **kwargs):\n",
        "    pass\n",
        "import warnings\n",
        "warnings.warn = warn"
      ],
      "execution_count": 0,
      "outputs": []
    },
    {
      "cell_type": "code",
      "metadata": {
        "id": "e8wtsqt-InY9",
        "colab_type": "code",
        "colab": {}
      },
      "source": [
        "# train test split\n",
        "from sklearn.model_selection import train_test_split\n",
        "\n",
        "X_train, X_test, y_train, y_test = train_test_split(X, y, test_size=0.2, random_state=42)"
      ],
      "execution_count": 0,
      "outputs": []
    },
    {
      "cell_type": "code",
      "metadata": {
        "id": "pxIJz7ZiInZA",
        "colab_type": "code",
        "colab": {}
      },
      "source": [
        "X_train = X_train.values\n",
        "X_validation = X_test.values\n",
        "y_train = y_train.values\n",
        "y_validation = y_test.values"
      ],
      "execution_count": 0,
      "outputs": []
    },
    {
      "cell_type": "code",
      "metadata": {
        "id": "2pl6fLhEInZC",
        "colab_type": "code",
        "colab": {}
      },
      "source": [
        "print('X_shapes:\\n', 'X_train:', 'X_validation:\\n', X_train.shape, X_validation.shape, '\\n')\n",
        "print('Y_shapes:\\n', 'Y_train:', 'Y_validation:\\n', y_train.shape, y_validation.shape)"
      ],
      "execution_count": 0,
      "outputs": []
    },
    {
      "cell_type": "code",
      "metadata": {
        "id": "QPpYjsJ5InZE",
        "colab_type": "code",
        "colab": {}
      },
      "source": [
        "from sklearn.model_selection import KFold\n",
        "from sklearn.model_selection import cross_val_score\n",
        "from sklearn.metrics import roc_auc_score\n",
        "from sklearn.metrics import classification_report\n",
        "from sklearn.metrics import confusion_matrix\n",
        "from sklearn.linear_model import LogisticRegression\n",
        "from sklearn.discriminant_analysis import LinearDiscriminantAnalysis\n",
        "from sklearn.neighbors import KNeighborsClassifier\n",
        "from sklearn.tree import DecisionTreeClassifier\n",
        "from sklearn.svm import SVC\n",
        "from xgboost import XGBClassifier\n",
        "from sklearn.ensemble import RandomForestClassifier\n"
      ],
      "execution_count": 0,
      "outputs": []
    },
    {
      "cell_type": "code",
      "metadata": {
        "id": "YBA8eqWrInZG",
        "colab_type": "code",
        "colab": {}
      },
      "source": [
        "##Spot-Checking Algorithms\n",
        "\n",
        "models = []\n",
        "\n",
        "models.append(('LR', LogisticRegression()))\n",
        "models.append(('LDA', LinearDiscriminantAnalysis()))\n",
        "models.append(('KNN', KNeighborsClassifier()))\n",
        "models.append(('CART', DecisionTreeClassifier()))\n",
        "models.append(('SVM', SVC()))\n",
        "models.append(('XGB', XGBClassifier()))\n",
        "models.append(('RF', RandomForestClassifier()))\n",
        "\n",
        "#testing models\n",
        "\n",
        "results = []\n",
        "names = []\n",
        "\n",
        "for name, model in models:\n",
        "    kfold = KFold(n_splits=10, random_state=42)\n",
        "    cv_results = cross_val_score(model, X_train, y_train, cv=kfold, scoring='roc_auc')\n",
        "    results.append(cv_results)\n",
        "    names.append(name)\n",
        "    msg = '%s: %f (%f)' % (name, cv_results.mean(), cv_results.std())\n",
        "    print(msg)"
      ],
      "execution_count": 0,
      "outputs": []
    },
    {
      "cell_type": "code",
      "metadata": {
        "id": "fN-LsSDvInZJ",
        "colab_type": "code",
        "colab": {}
      },
      "source": [
        "#Compare Algorithms\n",
        "\n",
        "fig = plt.figure(figsize=(12,10))\n",
        "plt.title('Comparison of Classification Algorithms')\n",
        "plt.xlabel('Algorithm')\n",
        "plt.ylabel('ROC-AUC Score')\n",
        "plt.boxplot(results)\n",
        "ax = fig.add_subplot(111)\n",
        "ax.set_xticklabels(names)\n",
        "plt.show()"
      ],
      "execution_count": 0,
      "outputs": []
    },
    {
      "cell_type": "code",
      "metadata": {
        "id": "s1oMi_OvInZM",
        "colab_type": "code",
        "colab": {}
      },
      "source": [
        "#visualizing RF\n",
        "model = RandomForestClassifier(n_estimators=10)\n",
        "\n",
        "# Train\n",
        "model.fit(X_train, y_train)\n",
        "# Extract single tree\n",
        "estimator = model.estimators_[5]\n",
        "\n",
        "from sklearn.tree import export_graphviz\n",
        "# Export as dot file\n",
        "export_graphviz(estimator, out_file='tree.dot', \n",
        "                feature_names = X.columns.tolist(),\n",
        "                class_names = ['0',' 1'],\n",
        "                rounded = True, proportion = False, \n",
        "                precision = 2, filled = True)\n",
        "\n",
        "# Convert to png using system command (requires Graphviz)\n",
        "from subprocess import call\n",
        "call(['dot', '-Tpng', 'tree.dot', '-o', 'tree.png', '-Gdpi=600'])\n",
        "\n",
        "# Display in jupyter notebook\n",
        "from IPython.display import Image\n",
        "Image(filename = 'tree.png')"
      ],
      "execution_count": 0,
      "outputs": []
    }
  ]
}